{
  "nbformat": 4,
  "nbformat_minor": 0,
  "metadata": {
    "colab": {
      "name": "Basic_KNN.ipynb",
      "version": "0.3.2",
      "provenance": []
    },
    "kernelspec": {
      "name": "python3",
      "display_name": "Python 3"
    }
  },
  "cells": [
    {
      "metadata": {
        "id": "b7VqHjmguMZC",
        "colab_type": "code",
        "colab": {}
      },
      "cell_type": "code",
      "source": [
        "#https://towardsdatascience.com/knn-using-scikit-learn-c6bed765be75\n",
        "import pandas as pd\n",
        "import numpy as np"
      ],
      "execution_count": 0,
      "outputs": []
    },
    {
      "metadata": {
        "id": "I16NUldVupo7",
        "colab_type": "code",
        "colab": {}
      },
      "cell_type": "code",
      "source": [
        "#https://www.analyticsvidhya.com/blog/2018/03/introduction-k-neighbours-algorithm-clustering/\n",
        "from sklearn.datasets import load_iris"
      ],
      "execution_count": 0,
      "outputs": []
    },
    {
      "metadata": {
        "id": "Wu8HwIalwpID",
        "colab_type": "code",
        "outputId": "3cf781c0-6d27-47d7-8a32-e030d6588a5d",
        "colab": {
          "base_uri": "https://localhost:8080/",
          "height": 68
        }
      },
      "cell_type": "code",
      "source": [
        "iris=load_iris()\n",
        "print(type(iris))\n",
        "print(iris.feature_names)\n",
        "print(iris.data.shape)"
      ],
      "execution_count": 0,
      "outputs": [
        {
          "output_type": "stream",
          "text": [
            "<class 'sklearn.utils.Bunch'>\n",
            "['sepal length (cm)', 'sepal width (cm)', 'petal length (cm)', 'petal width (cm)']\n",
            "(150, 4)\n"
          ],
          "name": "stdout"
        }
      ]
    },
    {
      "metadata": {
        "id": "bcU52qa01lvR",
        "colab_type": "code",
        "colab": {}
      },
      "cell_type": "code",
      "source": [
        "from sklearn.model_selection import train_test_split"
      ],
      "execution_count": 0,
      "outputs": []
    },
    {
      "metadata": {
        "id": "7-j9R3De59T0",
        "colab_type": "code",
        "colab": {}
      },
      "cell_type": "code",
      "source": [
        "#iris.data"
      ],
      "execution_count": 0,
      "outputs": []
    },
    {
      "metadata": {
        "id": "Taz6MvRs2low",
        "colab_type": "code",
        "colab": {}
      },
      "cell_type": "code",
      "source": [
        "X_train, X_test, y_train, y_test = train_test_split(iris.data, iris.target, test_size=0.2, random_state=4)\n"
      ],
      "execution_count": 0,
      "outputs": []
    },
    {
      "metadata": {
        "id": "YZ04f6eg3Lna",
        "colab_type": "code",
        "outputId": "a6e68358-57ea-4cb7-d3a7-8369dfafcac6",
        "colab": {
          "base_uri": "https://localhost:8080/",
          "height": 51
        }
      },
      "cell_type": "code",
      "source": [
        "print(X_train.shape)\n",
        "\n",
        "print(y_train.shape)"
      ],
      "execution_count": 0,
      "outputs": [
        {
          "output_type": "stream",
          "text": [
            "(120, 4)\n",
            "(120,)\n"
          ],
          "name": "stdout"
        }
      ]
    },
    {
      "metadata": {
        "id": "yM7yTJvi5Ob7",
        "colab_type": "code",
        "colab": {}
      },
      "cell_type": "code",
      "source": [
        "#import KNeighborsClassifier from sklearn\n",
        "from sklearn.neighbors import KNeighborsClassifier"
      ],
      "execution_count": 0,
      "outputs": []
    },
    {
      "metadata": {
        "id": "NZPdAQJj5PHA",
        "colab_type": "code",
        "colab": {}
      },
      "cell_type": "code",
      "source": [
        "#import matrics for check accuracy\n",
        "from sklearn import metrics"
      ],
      "execution_count": 0,
      "outputs": []
    },
    {
      "metadata": {
        "id": "4sUSH0HI8s0U",
        "colab_type": "code",
        "colab": {}
      },
      "cell_type": "code",
      "source": [
        "#trying range to check accuracy function for K\n",
        "k_range=range(1,26)\n",
        "scores={}\n",
        "scores_list=[]\n",
        "for k in k_range:\n",
        "  knn=KNeighborsClassifier(n_neighbors=k)\n",
        "  knn.fit(X_train,y_train)\n",
        "  y_pred=knn.predict(X_test)\n",
        "  scores[k]=metrics.accuracy_score(y_test,y_pred)\n",
        "  scores_list.append(metrics.accuracy_score(y_test,y_pred))\n"
      ],
      "execution_count": 0,
      "outputs": []
    },
    {
      "metadata": {
        "id": "mzZj_cQ_5iwb",
        "colab_type": "code",
        "colab": {}
      },
      "cell_type": "code",
      "source": [
        "#trying running k=1 to 25 and predict the accuracy\n",
        "k_range=range(1,26)\n",
        "scores={}\n",
        "scores_list=[]\n",
        "for k in k_range:\n",
        "  knn=KNeighborsClassifier(n_neighbors=k)\n",
        "  knn.fit(X_train,y_train)\n",
        "  y_pred=knn.predict(X_test)\n",
        "  scores[k]=metrics.accuracy_score(y_test,y_pred)\n",
        "  scores_list.append(metrics.accuracy_score(y_test,y_pred))"
      ],
      "execution_count": 0,
      "outputs": []
    },
    {
      "metadata": {
        "id": "92usZaLy9RTQ",
        "colab_type": "code",
        "colab": {
          "base_uri": "https://localhost:8080/",
          "height": 296
        },
        "outputId": "108d5a3d-46da-4b8f-e002-055e8b1f95f9"
      },
      "cell_type": "code",
      "source": [
        "#Plot the relationship between the values of K and the corresponding testing accuracy\n",
        "import matplotlib.pyplot as plt\n",
        "%matplotlib inline\n",
        "plt.plot(k_range,scores_list)\n",
        "plt.xlabel('Value of k for KNN')\n",
        "plt.ylabel('Testing Accuracy')"
      ],
      "execution_count": 19,
      "outputs": [
        {
          "output_type": "execute_result",
          "data": {
            "text/plain": [
              "Text(0, 0.5, 'Testing Accuracy')"
            ]
          },
          "metadata": {
            "tags": []
          },
          "execution_count": 19
        },
        {
          "output_type": "display_data",
          "data": {
            "image/png": "[encoded data removed]",
            "text/plain": [
              "<Figure size 432x288 with 1 Axes>"
            ]
          },
          "metadata": {
            "tags": []
          }
        }
      ]
    },
    {
      "metadata": {
        "id": "3ICm9SGO9dzK",
        "colab_type": "code",
        "colab": {
          "base_uri": "https://localhost:8080/",
          "height": 68
        },
        "outputId": "4e5df991-54b6-4abb-ca9a-a5f8ae421968"
      },
      "cell_type": "code",
      "source": [
        "#we can choose a optimal value of K as 5 (which falls between 3 and 19)\n",
        "knn=KNeighborsClassifier(n_neighbors=5)\n",
        "knn.fit(X_train,y_train)"
      ],
      "execution_count": 21,
      "outputs": [
        {
          "output_type": "execute_result",
          "data": {
            "text/plain": [
              "KNeighborsClassifier(algorithm='auto', leaf_size=30, metric='minkowski',\n",
              "           metric_params=None, n_jobs=None, n_neighbors=5, p=2,\n",
              "           weights='uniform')"
            ]
          },
          "metadata": {
            "tags": []
          },
          "execution_count": 21
        }
      ]
    },
    {
      "metadata": {
        "id": "yOhIKqZa-djA",
        "colab_type": "code",
        "colab": {
          "base_uri": "https://localhost:8080/",
          "height": 296
        },
        "outputId": "ecdfc215-9068-46c7-c37c-d9dcdd3c66a3"
      },
      "cell_type": "code",
      "source": [
        "import matplotlib.pyplot as plt\n",
        "%matplotlib inline\n",
        "plt.plot(k_range,scores_list)\n",
        "plt.xlabel('Value of k for KNN')\n",
        "plt.ylabel('Testing Accuracy')"
      ],
      "execution_count": 22,
      "outputs": [
        {
          "output_type": "execute_result",
          "data": {
            "text/plain": [
              "Text(0, 0.5, 'Testing Accuracy')"
            ]
          },
          "metadata": {
            "tags": []
          },
          "execution_count": 22
        },
        {
          "output_type": "display_data",
          "data": {
            "image/png": "[encoded data removed]",
            "text/plain": [
              "<Figure size 432x288 with 1 Axes>"
            ]
          },
          "metadata": {
            "tags": []
          }
        }
      ]
    },
    {
      "metadata": {
        "id": "WZ4CHMF__BfI",
        "colab_type": "code",
        "colab": {}
      },
      "cell_type": "code",
      "source": [
        "#0==Setosa, 1==versicolor, 2==virginica\n",
        "classes={0:'setosa',1:'versicolor',2:'virginica'}\n",
        "#making prediction on some unseen data\n",
        "#predict for 2 random observation\n",
        "X_new=[[3,4,5,2],\n",
        "      [5,4,2,2],\n",
        "      [4,4,5,2]]\n",
        "y_predict=knn.predict(X_new)\n",
        "\n"
      ],
      "execution_count": 0,
      "outputs": []
    },
    {
      "metadata": {
        "id": "dD-KCTrFAFhX",
        "colab_type": "code",
        "colab": {
          "base_uri": "https://localhost:8080/",
          "height": 68
        },
        "outputId": "5de78d16-87c4-4650-ecfd-4c295ba521a8"
      },
      "cell_type": "code",
      "source": [
        "print(classes[y_predict[0]])\n",
        "print(classes[y_predict[1]])\n",
        "print(classes[y_predict[2]])"
      ],
      "execution_count": 36,
      "outputs": [
        {
          "output_type": "stream",
          "text": [
            "versicolor\n",
            "setosa\n",
            "versicolor\n"
          ],
          "name": "stdout"
        }
      ]
    },
    {
      "metadata": {
        "id": "4a8PAy6yAViv",
        "colab_type": "code",
        "colab": {
          "base_uri": "https://localhost:8080/",
          "height": 34
        },
        "outputId": "e65a2833-1765-4485-8598-94642de05c3f"
      },
      "cell_type": "code",
      "source": [
        "y_predict"
      ],
      "execution_count": 33,
      "outputs": [
        {
          "output_type": "execute_result",
          "data": {
            "text/plain": [
              "array([1, 0, 0])"
            ]
          },
          "metadata": {
            "tags": []
          },
          "execution_count": 33
        }
      ]
    },
    {
      "metadata": {
        "id": "eL2YmnfAAjUQ",
        "colab_type": "code",
        "colab": {}
      },
      "cell_type": "code",
      "source": [
        ""
      ],
      "execution_count": 0,
      "outputs": []
    }
  ]
}